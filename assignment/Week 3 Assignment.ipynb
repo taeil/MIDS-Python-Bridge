{
 "cells": [
  {
   "cell_type": "markdown",
   "metadata": {},
   "source": [
    "# 1.1 If statements"
   ]
  },
  {
   "cell_type": "code",
   "execution_count": 6,
   "metadata": {},
   "outputs": [
    {
     "name": "stdout",
     "output_type": "stream",
     "text": [
      "Please enter your income:2100\n",
      "The amount of tax owed:  165.0\n"
     ]
    }
   ],
   "source": [
    "income = int(input(\"Please enter your income:\"))\n",
    "\n",
    "tax = 0\n",
    "if income < 1000:\n",
    "    tax = income * 0.05 \n",
    "elif income < 2000:\n",
    "    tax = 1000 * 0.05 + (income - 1000) * 0.1\n",
    "else:\n",
    "    tax = 1000 * 0.05 + 1000 * 0.1 +  (income - 2000) * 0.15\n",
    "\n",
    "print(\"The amount of tax owed: \", tax)"
   ]
  },
  {
   "cell_type": "markdown",
   "metadata": {},
   "source": [
    "# 1.2 While loops"
   ]
  },
  {
   "cell_type": "code",
   "execution_count": 17,
   "metadata": {},
   "outputs": [
    {
     "name": "stdout",
     "output_type": "stream",
     "text": [
      "Please enter a name:ana\n",
      "Ana\n",
      "Palindrome!\n"
     ]
    }
   ],
   "source": [
    "s = input(\"Please enter a name:\").lower()\n",
    "idx = len(s) - 1\n",
    "reverse_s = \"\"\n",
    "while idx >= 0:\n",
    "    reverse_s += s[idx]\n",
    "    idx -= 1\n",
    "\n",
    "reverse_s = reverse_s[0].upper() + reverse_s[1:]\n",
    "\n",
    "print(reverse_s)\n",
    "if reverse_s.lower() == s.lower():\n",
    "    print(\"Palindrome!\")\n"
   ]
  },
  {
   "cell_type": "markdown",
   "metadata": {},
   "source": [
    "# 1.3 Tree Prints"
   ]
  },
  {
   "cell_type": "code",
   "execution_count": 36,
   "metadata": {},
   "outputs": [
    {
     "name": "stdout",
     "output_type": "stream",
     "text": [
      "Enter a size: 5\n",
      "     1\n",
      "    121\n",
      "   12321\n",
      "  1234321\n",
      " 123454321\n"
     ]
    }
   ],
   "source": [
    "n = int(input(\"Enter a size: \"))\n",
    "row = 1 \n",
    "while row <= n:        \n",
    "    i = row\n",
    "    while i <= n:\n",
    "        print(\" \", end = \"\")\n",
    "        i += 1\n",
    "    \n",
    "    i = 1\n",
    "    while i <= row:\n",
    "        print(i, end = \"\")\n",
    "        i += 1\n",
    "    \n",
    "    i = row - 1\n",
    "    while i > 0:\n",
    "        print(i, end = \"\")\n",
    "        i -= 1\n",
    "    \n",
    "    print(\"\")\n",
    "    row += 1"
   ]
  },
  {
   "cell_type": "markdown",
   "metadata": {},
   "source": [
    "# 1.4 Fibonacci"
   ]
  },
  {
   "cell_type": "code",
   "execution_count": 45,
   "metadata": {},
   "outputs": [
    {
     "name": "stdout",
     "output_type": "stream",
     "text": [
      "Enter a number: 1999\n",
      "1 1 2 3 5 8 13 21 34 55 89 144 233 377 610 987 1597 "
     ]
    }
   ],
   "source": [
    "n = int(input(\"Enter a number: \"))\n",
    "\n",
    "first = 1\n",
    "second = 1\n",
    "third = 2\n",
    "\n",
    "print(first, second, end = \" \") \n",
    "\n",
    "while third < n:\n",
    "    print(third, end = \" \")\n",
    "    first = second\n",
    "    second = third\n",
    "    third = first + second\n",
    "\n"
   ]
  },
  {
   "cell_type": "markdown",
   "metadata": {},
   "source": [
    "# 1.5 Pascal’s Triangle"
   ]
  },
  {
   "cell_type": "code",
   "execution_count": 64,
   "metadata": {},
   "outputs": [
    {
     "name": "stdout",
     "output_type": "stream",
     "text": [
      "Enter a number: 5\n",
      "      1 \n",
      "     1 1 \n",
      "    1 2 1 \n",
      "   1 3 3 1 \n",
      "  1 4 6 4 1 \n",
      " 1 5 10 10 5 1 \n"
     ]
    }
   ],
   "source": [
    "n = int(input(\"Enter a number: \"))\n",
    "    \n",
    "rowidx = 0\n",
    "row = [1]\n",
    "while rowidx <= n:        \n",
    "    \n",
    "    i = rowidx\n",
    "    while i <= n:\n",
    "        print(\" \", end = \"\")\n",
    "        i += 1\n",
    "    \n",
    "    i = rowidx - 1\n",
    "    while i > 0:\n",
    "        row[i] = row[i-1] + row[i]\n",
    "        #print(\"row[i]: \", row[i])\n",
    "        i -= 1\n",
    "        \n",
    "    for ele in row:  \n",
    "        print(ele, end =\" \")\n",
    "    \n",
    "    print()\n",
    "    row.append(1)\n",
    "    rowidx += 1"
   ]
  }
 ],
 "metadata": {
  "kernelspec": {
   "display_name": "Python 3",
   "language": "python",
   "name": "python3"
  },
  "language_info": {
   "codemirror_mode": {
    "name": "ipython",
    "version": 3
   },
   "file_extension": ".py",
   "mimetype": "text/x-python",
   "name": "python",
   "nbconvert_exporter": "python",
   "pygments_lexer": "ipython3",
   "version": "3.7.0"
  }
 },
 "nbformat": 4,
 "nbformat_minor": 2
}
