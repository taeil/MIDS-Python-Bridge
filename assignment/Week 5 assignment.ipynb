{
 "cells": [
  {
   "cell_type": "markdown",
   "metadata": {},
   "source": [
    "# 1 Function Exercises"
   ]
  },
  {
   "cell_type": "code",
   "execution_count": 21,
   "metadata": {},
   "outputs": [
    {
     "name": "stdout",
     "output_type": "stream",
     "text": [
      "Enter a number: 8122\n",
      "Enter another number: 13\n",
      "9\n"
     ]
    }
   ],
   "source": [
    "def sum_digits(x):\n",
    "    digits_list = []\n",
    "    x = abs(x)\n",
    "    while x >= 10:\n",
    "        digits_list.append(x%10)\n",
    "        x //= 10\n",
    "    digits_list.append(x)\n",
    "    return sum(digits_list)\n",
    "\n",
    "def diff_sum_digits(x, y):\n",
    "    return sum_digits(x) - sum_digits(y)\n",
    "\n",
    "def single_digit_diff_sum_digits(x, y):\n",
    "    diff = diff_sum_digits(x, y)\n",
    "    while(abs(diff) > 9):\n",
    "        diff = sum_digits(diff)\n",
    "    print(diff)\n",
    "\n",
    "x = int(input(\"Enter a number: \"))\n",
    "y = int(input(\"Enter another number: \"))\n",
    "\n",
    "single_digit_diff_sum_digits(x,y)"
   ]
  },
  {
   "cell_type": "code",
   "execution_count": 48,
   "metadata": {},
   "outputs": [
    {
     "name": "stdout",
     "output_type": "stream",
     "text": [
      "Enter a word or a sentenaceThis is test\n",
      "Isthay isay esttay.\n"
     ]
    }
   ],
   "source": [
    "def is_consonant(ch):\n",
    "    return ch not in \"aeiouAEIOU\"\n",
    "\n",
    "def to_piglatin(word):\n",
    "    # check how many of them are consonat beginning\n",
    "    # aword, bbbbb, bbaaa\n",
    "    idx=0\n",
    "    while is_consonant(word[idx]) and idx < len(word)-1:\n",
    "        idx += 1\n",
    "    \n",
    "    word = word[idx:] + word[0:idx].lower() + \"ay\"\n",
    "    return word\n",
    "\n",
    "words = (input(\"Enter a word or a sentenace\")).split()\n",
    "\n",
    "sentence = \"\"\n",
    "for word in words:\n",
    "    if \".\" in word:\n",
    "        sentence = sentence + to_piglatin(word[:-1]) + \" \"\n",
    "    else:\n",
    "        sentence = sentence + to_piglatin(word) + \" \"\n",
    "    \n",
    "print(sentence[0:1].upper() + sentence[1:-1] + \".\")"
   ]
  },
  {
   "cell_type": "markdown",
   "metadata": {},
   "source": [
    "# 2 Namespace Exercises "
   ]
  },
  {
   "cell_type": "code",
   "execution_count": 54,
   "metadata": {},
   "outputs": [
    {
     "name": "stdout",
     "output_type": "stream",
     "text": [
      "1 order of antacid : 5.33\n",
      "3 order of sour bites : 6.99\n",
      "1 order of gummy bears : 1.99\n",
      "4 order of oranges : 12.88\n",
      "total price:  27.19\n"
     ]
    }
   ],
   "source": [
    "total = 0\n",
    "def process_order(x_list):\n",
    "    global total\n",
    "    order = x.pop()\n",
    "    total += (order[2] * order[1]) \n",
    "    print(order[1],\"order of\", order[0], \":\", order[2] * order[1])\n",
    "\n",
    "x = [(\"oranges\", 4, 3.22),(\"gummy bears\",1,1.99),(\"sour bites\", 3, 2.33), (\"antacid\", 1, 5.33)]\n",
    "while(len(x)>0):\n",
    "    process_order(x)\n",
    "print(\"total price: \", total)\n",
    "    \n"
   ]
  },
  {
   "cell_type": "markdown",
   "metadata": {},
   "source": [
    "# 3 Functions as Objects"
   ]
  },
  {
   "cell_type": "code",
   "execution_count": 89,
   "metadata": {},
   "outputs": [
    {
     "name": "stdout",
     "output_type": "stream",
     "text": [
      "Best name is: Alexis\n"
     ]
    }
   ],
   "source": [
    "def score(word):\n",
    "    #highest ascii charter :) \n",
    "    return max(word)\n",
    "\n",
    "def best(score, names):\n",
    "    return max(names, key = score)\n",
    "\n",
    "names = [\"Ben\", \"April\", \"Zaber\", \"Alexis\", \"McJagger\", \"J.J.\", \"Madonna\"]\n",
    "\n",
    "print(\"Best name is:\", best(score, names))"
   ]
  },
  {
   "cell_type": "code",
   "execution_count": 83,
   "metadata": {},
   "outputs": [
    {
     "name": "stdout",
     "output_type": "stream",
     "text": [
      "Ben has 1 vowels\n",
      "April has 2 vowels\n",
      "Zaber has 2 vowels\n",
      "Alexis has 3 vowels\n",
      "McJagger has 2 vowels\n",
      "J.J. has 0 vowels\n",
      "Madonna has 3 vowels\n",
      "Best name is: Alexis\n"
     ]
    }
   ],
   "source": [
    "def number_of_vowels(word):\n",
    "    vowel = \"aeiouAEIOU\"\n",
    "    total = 0\n",
    "    for ch in vowel:\n",
    "        total = total + word.count(ch)\n",
    "    print(word, \"has\", total, \"vowels\")\n",
    "    return total \n",
    "\n",
    "def best(score, names):\n",
    "    return max(names, key = score)\n",
    "\n",
    "names = [\"Ben\", \"April\", \"Zaber\", \"Alexis\", \"McJagger\", \"J.J.\", \"Madonna\"]\n",
    "\n",
    "print(\"Best name is:\", best(number_of_vowels, names))"
   ]
  },
  {
   "cell_type": "code",
   "execution_count": 86,
   "metadata": {},
   "outputs": [
    {
     "name": "stdout",
     "output_type": "stream",
     "text": [
      "Best name is: Madonna\n"
     ]
    }
   ],
   "source": [
    "def best(score, names):\n",
    "    return max(names, key = score)\n",
    "\n",
    "names = [\"Ben\", \"April\", \"Zaber\", \"Alexis\", \"McJagger\", \"J.J.\", \"Madonna\"]\n",
    "\n",
    "print(\"Best name is:\", best(lambda x: x.count(\"a\") , names))"
   ]
  },
  {
   "cell_type": "markdown",
   "metadata": {},
   "source": [
    "# 4 Exceptions Exercises"
   ]
  },
  {
   "cell_type": "code",
   "execution_count": 88,
   "metadata": {},
   "outputs": [
    {
     "name": "stdout",
     "output_type": "stream",
     "text": [
      "Enter a number: f\n",
      "You did not enter a valid number.\n",
      "Enter a number: 8=s\n",
      "You did not enter a valid number.\n",
      "Enter a number: 2\n",
      "The reciprocal of your number is 0.5\n"
     ]
    }
   ],
   "source": [
    "valid_or_zero = False\n",
    "while not valid_or_zero: \n",
    "    try:\n",
    "        x = float(input(\"Enter a number: \"))\n",
    "        print(\"The reciprocal of your number is\", 1/x)\n",
    "        valid_or_zero = True\n",
    "    except ValueError:\n",
    "        print(\"You did not enter a valid number.\")\n",
    "    except ZeroDivisionError:\n",
    "        print(\"Zero does not have a reciprocal\")\n",
    "        valid_or_zero = True\n",
    "    except:\n",
    "        print(\"something else went wrong.\")\n"
   ]
  },
  {
   "cell_type": "code",
   "execution_count": 120,
   "metadata": {},
   "outputs": [
    {
     "name": "stdout",
     "output_type": "stream",
     "text": [
      "Invalid weights: 95 The sum of weights must be 100\n",
      "Invalid weight: 110 The weight should be between 0 and 100.\n",
      "No corresponding number of weights and grades. There are 3 weights but 4 grades.\n",
      "94.60000000000001\n"
     ]
    }
   ],
   "source": [
    "def weighted_grade(grades, weights):\n",
    "    if sum(weights) != 100:\n",
    "        raise Exception(\"Invalid weights: \"+str(sum(weights))+\" The sum of weights must be 100\")\n",
    "        \n",
    "    for weight in weights:\n",
    "        if weight < 0 or weight > 100:\n",
    "            raise Exception(\"Invalid weight: \"+str(weight)+\" The weight should be between 0 and 100.\")\n",
    "    \n",
    "    if len(weights) != len(grades):\n",
    "        raise Exception(\"No corresponding number of weights and grades. There are \" \n",
    "                        + str(len(weights)) + \" weights but \" + str(len(grades)) + \" grades.\")\n",
    "    \n",
    "    new_grade = 0\n",
    "    for idx in range(0, len(weights)):\n",
    "        new_grade += grades[idx]*weights[idx]/100\n",
    "    return new_grade\n",
    "        \n",
    "grades1 = [88,99,100,70]\n",
    "weights1 = [30, 30, 30, 5]\n",
    "grades2 = [78, 75, 80, 99]\n",
    "weights2 = [110, 10, -20]\n",
    "grades3 = [78, 75, 80, 99]\n",
    "weights3 = [10, 10, 80]\n",
    "grades4 = [78, 75, 80, 99]\n",
    "weights4 = [5, 10, 5, 80]\n",
    "\n",
    "try:\n",
    "    print(weighted_grade(grades1, weights1))\n",
    "except Exception as err:\n",
    "    print(err)\n",
    "    \n",
    "try:\n",
    "    print(weighted_grade(grades2, weights2))\n",
    "except Exception as err:\n",
    "    print(err)\n",
    "\n",
    "try:\n",
    "    print(weighted_grade(grades3, weights3))\n",
    "except Exception as err:\n",
    "    print(err)\n",
    "\n",
    "try:\n",
    "    print(weighted_grade(grades4, weights4))\n",
    "except Exception as err:\n",
    "    print(err)"
   ]
  }
 ],
 "metadata": {
  "kernelspec": {
   "display_name": "Python 3",
   "language": "python",
   "name": "python3"
  },
  "language_info": {
   "codemirror_mode": {
    "name": "ipython",
    "version": 3
   },
   "file_extension": ".py",
   "mimetype": "text/x-python",
   "name": "python",
   "nbconvert_exporter": "python",
   "pygments_lexer": "ipython3",
   "version": "3.7.0"
  }
 },
 "nbformat": 4,
 "nbformat_minor": 2
}
