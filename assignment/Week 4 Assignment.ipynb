{
 "cells": [
  {
   "cell_type": "markdown",
   "metadata": {},
   "source": [
    "# 1 For Loops\n",
    "## 1.1"
   ]
  },
  {
   "cell_type": "code",
   "execution_count": 16,
   "metadata": {},
   "outputs": [
    {
     "name": "stdout",
     "output_type": "stream",
     "text": [
      "Enter one word: Home\n",
      "Enter another word: emaHooo\n",
      "Letters in common: emoH"
     ]
    }
   ],
   "source": [
    "first = input(\"Enter one word: \")\n",
    "second = input(\"Enter another word: \")\n",
    "\n",
    "common = \"\"\n",
    "for x in first:\n",
    "    if x in second:\n",
    "        common += x\n",
    "\n",
    "import string \n",
    "alphabet = string.ascii_letters\n",
    "\n",
    "common_sorted_list = [letter for letter in alphabet if letter in common]\n",
    "\n",
    "print(\"Letters in common:\",end=\" \")\n",
    "for letter in common_sorted_list:\n",
    "        print(letter, end=\"\")\n"
   ]
  },
  {
   "cell_type": "markdown",
   "metadata": {},
   "source": [
    "## 1.2"
   ]
  },
  {
   "cell_type": "code",
   "execution_count": 26,
   "metadata": {
    "scrolled": true
   },
   "outputs": [
    {
     "name": "stdout",
     "output_type": "stream",
     "text": [
      "Enter a board size: 9\n",
      "1 0 0 0 0 0 0 0 0 \n",
      "1 1 0 0 0 0 0 0 0 \n",
      "1 2 1 0 0 0 0 0 0 \n",
      "1 3 2 1 0 0 0 0 0 \n",
      "1 4 3 2 1 0 0 0 0 \n",
      "1 5 4 3 2 1 0 0 0 \n",
      "1 6 5 4 3 2 1 0 0 \n",
      "1 7 6 5 4 3 2 1 0 \n",
      "1 8 7 6 5 4 3 2 1 \n"
     ]
    }
   ],
   "source": [
    "n = int(input(\"Enter a board size: \"))\n",
    "\n",
    "# the pawn is at position (i,j)\n",
    "#(i+1,j) or (i+1, j+1)\n",
    "\n",
    "# patterns for # of routes: if destination is i+x, j+y\n",
    "# if y = 0, 1\n",
    "# if y !=0 && x > y, x - y + 1 \n",
    "# if x < y, 0\n",
    "\n",
    "for i in range(0, n):\n",
    "    for j in range (0, n):\n",
    "        if j == 0:\n",
    "            print(\"1\", end=\" \")\n",
    "        elif i < j:\n",
    "            print(\"0\", end=\" \")\n",
    "        else:\n",
    "            print(i-j+1, end=\" \")\n",
    "    print(\"\")\n"
   ]
  },
  {
   "cell_type": "markdown",
   "metadata": {},
   "source": [
    "# 2 Bisection Search"
   ]
  },
  {
   "cell_type": "code",
   "execution_count": 49,
   "metadata": {
    "scrolled": true
   },
   "outputs": [
    {
     "name": "stdout",
     "output_type": "stream",
     "text": [
      "enter a number:0.25\n",
      "low = 0.0 high = 1\n",
      "low = 0.0 high = 0.5\n",
      "low = 0.25 high = 0.5\n",
      "low = 0.375 high = 0.5\n",
      "low = 0.4375 high = 0.5\n",
      "low = 0.46875 high = 0.5\n",
      "low = 0.484375 high = 0.5\n",
      "low = 0.4921875 high = 0.5\n",
      "low = 0.49609375 high = 0.5\n",
      "low = 0.498046875 high = 0.5\n",
      "low = 0.4990234375 high = 0.5\n",
      "low = 0.49951171875 high = 0.5\n",
      "low = 0.499755859375 high = 0.5\n",
      "low = 0.4998779296875 high = 0.5\n",
      "low = 0.49993896484375 high = 0.5\n",
      "low = 0.499969482421875 high = 0.5\n",
      "number of guesses = 16\n",
      "0.49999237060546875 is close to square root of 0.25\n"
     ]
    }
   ],
   "source": [
    "x = float(input(\"enter a number:\"))\n",
    "epsilon = 0.00001\n",
    "num_guesses = 0\n",
    "low = 0.0\n",
    "\n",
    "if(x<1):\n",
    "    high=1\n",
    "else:\n",
    "    high = x\n",
    "    \n",
    "ans = (high + low)/2.0\n",
    "while high - low >= 2 * epsilon:\n",
    "    print(\"low =\",low,\"high =\", high)\n",
    "    num_guesses += 1\n",
    "    if ans ** 2 < x:\n",
    "        low = ans\n",
    "    else:\n",
    "        high = ans\n",
    "    ans = (high + low)/2.0\n",
    "\n",
    "print(\"number of guesses =\", num_guesses)\n",
    "print(ans, \"is close to square root of\", x)"
   ]
  },
  {
   "cell_type": "markdown",
   "metadata": {},
   "source": [
    "the number of search = "
   ]
  },
  {
   "cell_type": "markdown",
   "metadata": {},
   "source": [
    "# Part 3 Bisection Search Part 2"
   ]
  },
  {
   "cell_type": "markdown",
   "metadata": {},
   "source": [
    "1. bisection search algorithm has Big O of logrithm (base 2) complexity. I.e., every operation eliminates half of target data so it works very well with large size of data. \n",
    "2. Newton's method eliminates more than half of target data with each operation. Therefore it gets to the answer faster. \n"
   ]
  },
  {
   "cell_type": "markdown",
   "metadata": {},
   "source": [
    "#### 3. Implement this digit-by-digit algorithm to find the square root of x to a precision of epsilon."
   ]
  },
  {
   "cell_type": "code",
   "execution_count": 159,
   "metadata": {
    "scrolled": true
   },
   "outputs": [
    {
     "name": "stdout",
     "output_type": "stream",
     "text": [
      "x: 409577.0 / 100\n",
      "sqrt: 63.99820309\n"
     ]
    }
   ],
   "source": [
    "x = 4095.77\n",
    "\n",
    "#multiply by 100 until no floating digits (equivalent to calculate sqrt(x)/sqrt(10th)) \n",
    "\n",
    "hundredth_divisor = 0\n",
    "while x != int(x):\n",
    "    x *= 100\n",
    "    hundredth_divisor += 1\n",
    "\n",
    "print(\"x:\", x, \"/\", 100**hundredth_divisor)\n",
    "x = int(x) #in case of float round error\n",
    "\n",
    "#store two digits reverse order (e.g., for 40968, [68, 09, 04])\n",
    "digits_list = []\n",
    "while x > 0:\n",
    "    digits_list.append(x%100)\n",
    "    x //= 100\n",
    "\n",
    "# Let p be the part of the root found so far, ignoring any decimal point. \n",
    "# (For the first step, p = 0.)\n",
    "# Determine the greatest digit x such that \n",
    "# We will use a new variable x(20p + x).\n",
    "p = 0\n",
    "c = digits_list.pop()\n",
    "\n",
    "floatingP = 0\n",
    "while floatingP < 8:\n",
    "    for x in range(1, 10):\n",
    "        if(x*(20*p + x) > c):\n",
    "            x = x - 1\n",
    "            break\n",
    "    c = c - (x)*(20*p + x)\n",
    "    p = p*10 + x\n",
    "     \n",
    "    if len(digits_list) > 0:\n",
    "        pp = digits_list.pop()\n",
    "        c = c*100 + pp\n",
    "    else:\n",
    "        floatingP += 1\n",
    "        c = c*100\n",
    "\n",
    "p = p / (10**(floatingP -1 + hundredth_divisor))\n",
    "print(\"sqrt:\", p)"
   ]
  },
  {
   "cell_type": "markdown",
   "metadata": {},
   "source": [
    "# Part 4 Comprehensions"
   ]
  },
  {
   "cell_type": "markdown",
   "metadata": {},
   "source": [
    "#### 1. Use a comprehension to make a list of the square numbers below 100 that give a remainder of 1 when divided by 3."
   ]
  },
  {
   "cell_type": "code",
   "execution_count": 40,
   "metadata": {},
   "outputs": [
    {
     "data": {
      "text/plain": [
       "[1, 4, 16, 25, 49, 64]"
      ]
     },
     "execution_count": 40,
     "metadata": {},
     "output_type": "execute_result"
    }
   ],
   "source": [
    "square_numbers = [number**2 for number in range(1,10) if number**2%3 == 1]\n",
    "square_numbers"
   ]
  },
  {
   "cell_type": "markdown",
   "metadata": {},
   "source": [
    "#### 2. A string is defined in the code snippet below. Split it into individual words and use a comprehension to make a list of the first letters of each word in the snippet."
   ]
  },
  {
   "cell_type": "code",
   "execution_count": 42,
   "metadata": {},
   "outputs": [
    {
     "name": "stdout",
     "output_type": "stream",
     "text": [
      "['I', 'l', 'm', 'l', 'a', 'q', 'm', 'a', 'a', 't', 'N', 'e', 'm', 'n', 't', 'm', 'n', 't', 's', 'n', 'm', 't', 'a', 'a', 't', 'b', 'F', 't', 't', 's', 'o', 'l', 'I', 'f']\n"
     ]
    }
   ],
   "source": [
    "text = \"I live my life a quarter mile at a time. \\\n",
    "Nothing else matters: not the mortgage, not the store, \\\n",
    "not my team and all their bullshit. \\\n",
    "For those ten seconds or less, I’m free.\"\n",
    "\n",
    "first_letters = [word[0] for word in text.split()]\n",
    "print(first_letters)"
   ]
  },
  {
   "cell_type": "markdown",
   "metadata": {},
   "source": [
    "#### 3. A Pythagorean triple is a set (x,y,z), with positive integers x≤y≤z such that x2+y2=z2. Use a com- prehension to make a list of all Pythagorean triples with numbers below 25."
   ]
  },
  {
   "cell_type": "code",
   "execution_count": 50,
   "metadata": {},
   "outputs": [
    {
     "data": {
      "text/plain": [
       "[(0, 0, 0),\n",
       " (0, 1, 1),\n",
       " (0, 2, 2),\n",
       " (0, 3, 3),\n",
       " (0, 4, 4),\n",
       " (0, 5, 5),\n",
       " (0, 6, 6),\n",
       " (0, 7, 7),\n",
       " (0, 8, 8),\n",
       " (0, 9, 9),\n",
       " (0, 10, 10),\n",
       " (0, 11, 11),\n",
       " (0, 12, 12),\n",
       " (0, 13, 13),\n",
       " (0, 14, 14),\n",
       " (0, 15, 15),\n",
       " (0, 16, 16),\n",
       " (0, 17, 17),\n",
       " (0, 18, 18),\n",
       " (0, 19, 19),\n",
       " (0, 20, 20),\n",
       " (0, 21, 21),\n",
       " (0, 22, 22),\n",
       " (0, 23, 23),\n",
       " (0, 24, 24),\n",
       " (1, 1, 2),\n",
       " (1, 2, 3),\n",
       " (1, 3, 4),\n",
       " (1, 4, 5),\n",
       " (1, 5, 6),\n",
       " (1, 6, 7),\n",
       " (1, 7, 8),\n",
       " (1, 8, 9),\n",
       " (1, 9, 10),\n",
       " (1, 10, 11),\n",
       " (1, 11, 12),\n",
       " (1, 12, 13),\n",
       " (1, 13, 14),\n",
       " (1, 14, 15),\n",
       " (1, 15, 16),\n",
       " (1, 16, 17),\n",
       " (1, 17, 18),\n",
       " (1, 18, 19),\n",
       " (1, 19, 20),\n",
       " (1, 20, 21),\n",
       " (1, 21, 22),\n",
       " (1, 22, 23),\n",
       " (1, 23, 24),\n",
       " (2, 2, 4),\n",
       " (2, 3, 5),\n",
       " (2, 4, 6),\n",
       " (2, 5, 7),\n",
       " (2, 6, 8),\n",
       " (2, 7, 9),\n",
       " (2, 8, 10),\n",
       " (2, 9, 11),\n",
       " (2, 10, 12),\n",
       " (2, 11, 13),\n",
       " (2, 12, 14),\n",
       " (2, 13, 15),\n",
       " (2, 14, 16),\n",
       " (2, 15, 17),\n",
       " (2, 16, 18),\n",
       " (2, 17, 19),\n",
       " (2, 18, 20),\n",
       " (2, 19, 21),\n",
       " (2, 20, 22),\n",
       " (2, 21, 23),\n",
       " (2, 22, 24),\n",
       " (3, 3, 6),\n",
       " (3, 4, 7),\n",
       " (3, 5, 8),\n",
       " (3, 6, 9),\n",
       " (3, 7, 10),\n",
       " (3, 8, 11),\n",
       " (3, 9, 12),\n",
       " (3, 10, 13),\n",
       " (3, 11, 14),\n",
       " (3, 12, 15),\n",
       " (3, 13, 16),\n",
       " (3, 14, 17),\n",
       " (3, 15, 18),\n",
       " (3, 16, 19),\n",
       " (3, 17, 20),\n",
       " (3, 18, 21),\n",
       " (3, 19, 22),\n",
       " (3, 20, 23),\n",
       " (3, 21, 24),\n",
       " (4, 4, 8),\n",
       " (4, 5, 9),\n",
       " (4, 6, 10),\n",
       " (4, 7, 11),\n",
       " (4, 8, 12),\n",
       " (4, 9, 13),\n",
       " (4, 10, 14),\n",
       " (4, 11, 15),\n",
       " (4, 12, 16),\n",
       " (4, 13, 17),\n",
       " (4, 14, 18),\n",
       " (4, 15, 19),\n",
       " (4, 16, 20),\n",
       " (4, 17, 21),\n",
       " (4, 18, 22),\n",
       " (4, 19, 23),\n",
       " (4, 20, 24),\n",
       " (5, 5, 10),\n",
       " (5, 6, 11),\n",
       " (5, 7, 12),\n",
       " (5, 8, 13),\n",
       " (5, 9, 14),\n",
       " (5, 10, 15),\n",
       " (5, 11, 16),\n",
       " (5, 12, 17),\n",
       " (5, 13, 18),\n",
       " (5, 14, 19),\n",
       " (5, 15, 20),\n",
       " (5, 16, 21),\n",
       " (5, 17, 22),\n",
       " (5, 18, 23),\n",
       " (5, 19, 24),\n",
       " (6, 6, 12),\n",
       " (6, 7, 13),\n",
       " (6, 8, 14),\n",
       " (6, 9, 15),\n",
       " (6, 10, 16),\n",
       " (6, 11, 17),\n",
       " (6, 12, 18),\n",
       " (6, 13, 19),\n",
       " (6, 14, 20),\n",
       " (6, 15, 21),\n",
       " (6, 16, 22),\n",
       " (6, 17, 23),\n",
       " (6, 18, 24),\n",
       " (7, 7, 14),\n",
       " (7, 8, 15),\n",
       " (7, 9, 16),\n",
       " (7, 10, 17),\n",
       " (7, 11, 18),\n",
       " (7, 12, 19),\n",
       " (7, 13, 20),\n",
       " (7, 14, 21),\n",
       " (7, 15, 22),\n",
       " (7, 16, 23),\n",
       " (7, 17, 24),\n",
       " (8, 8, 16),\n",
       " (8, 9, 17),\n",
       " (8, 10, 18),\n",
       " (8, 11, 19),\n",
       " (8, 12, 20),\n",
       " (8, 13, 21),\n",
       " (8, 14, 22),\n",
       " (8, 15, 23),\n",
       " (8, 16, 24),\n",
       " (9, 9, 18),\n",
       " (9, 10, 19),\n",
       " (9, 11, 20),\n",
       " (9, 12, 21),\n",
       " (9, 13, 22),\n",
       " (9, 14, 23),\n",
       " (9, 15, 24),\n",
       " (10, 10, 20),\n",
       " (10, 11, 21),\n",
       " (10, 12, 22),\n",
       " (10, 13, 23),\n",
       " (10, 14, 24),\n",
       " (11, 11, 22),\n",
       " (11, 12, 23),\n",
       " (11, 13, 24),\n",
       " (12, 12, 24)]"
      ]
     },
     "execution_count": 50,
     "metadata": {},
     "output_type": "execute_result"
    }
   ],
   "source": [
    "xyz = [(x,y,z) \n",
    "       for x in range(0, 25) for y in range(0, 25) for z in range(0, 25) \n",
    "       if x*2 + y*2 == z*2 and x <= y and y <= z]\n",
    "xyz"
   ]
  },
  {
   "cell_type": "markdown",
   "metadata": {},
   "source": [
    "#### 4. Given a word, provided below, use a comprehension to make a list of all strings that can be formed by deleting exactly one character from the word."
   ]
  },
  {
   "cell_type": "code",
   "execution_count": 56,
   "metadata": {},
   "outputs": [
    {
     "data": {
      "text/plain": [
       "['elcomed', 'Wlcomed', 'Wecomed', 'Welomed', 'Welcmed', 'Welcoed', 'Welcomd']"
      ]
     },
     "execution_count": 56,
     "metadata": {},
     "output_type": "execute_result"
    }
   ],
   "source": [
    "word = \"Welcomed\" \n",
    "word_list = [word[0:i-1] + word[i:] for i in range(1, len(word))]\n",
    "word_list"
   ]
  },
  {
   "cell_type": "markdown",
   "metadata": {},
   "source": [
    "#### 5. Given a word, provided below, use a comprehension to make a list of all strings that can be formed by replacing exactly one vowel in the word with a different vowel."
   ]
  },
  {
   "cell_type": "code",
   "execution_count": 66,
   "metadata": {},
   "outputs": [
    {
     "data": {
      "text/plain": [
       "['Baoted',\n",
       " 'Beoted',\n",
       " 'Bioted',\n",
       " 'Buoted',\n",
       " 'Boated',\n",
       " 'Boeted',\n",
       " 'Boited',\n",
       " 'Bouted',\n",
       " 'Bootad',\n",
       " 'Bootid',\n",
       " 'Bootod',\n",
       " 'Bootud']"
      ]
     },
     "execution_count": 66,
     "metadata": {},
     "output_type": "execute_result"
    }
   ],
   "source": [
    "word = \"Booted\"\n",
    "vowels = \"aeiou\"\n",
    "\n",
    "word_list = [word[0:w] + vowels[v] + word[w+1:] \n",
    "             for w in range(1, len(word)) \n",
    "             for v in range(0, len(vowels)) \n",
    "             if word[w] != vowels[v] and word[w] in vowels]\n",
    "word_list"
   ]
  }
 ],
 "metadata": {
  "kernelspec": {
   "display_name": "Python 3",
   "language": "python",
   "name": "python3"
  },
  "language_info": {
   "codemirror_mode": {
    "name": "ipython",
    "version": 3
   },
   "file_extension": ".py",
   "mimetype": "text/x-python",
   "name": "python",
   "nbconvert_exporter": "python",
   "pygments_lexer": "ipython3",
   "version": "3.7.0"
  }
 },
 "nbformat": 4,
 "nbformat_minor": 2
}
